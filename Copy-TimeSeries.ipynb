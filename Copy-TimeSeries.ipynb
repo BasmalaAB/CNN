{
  "nbformat": 4,
  "nbformat_minor": 0,
  "metadata": {
    "colab": {
      "provenance": [],
      "toc_visible": true,
      "include_colab_link": true
    },
    "kernelspec": {
      "name": "python3",
      "display_name": "Python 3"
    },
    "language_info": {
      "name": "python"
    }
  },
  "cells": [
    {
      "cell_type": "markdown",
      "metadata": {
        "id": "view-in-github",
        "colab_type": "text"
      },
      "source": [
        "<a href=\"https://colab.research.google.com/github/BasmalaAB/CNN/blob/main/Copy-TimeSeries.ipynb\" target=\"_parent\"><img src=\"https://colab.research.google.com/assets/colab-badge.svg\" alt=\"Open In Colab\"/></a>"
      ]
    },
    {
      "cell_type": "markdown",
      "source": [
        "# Installing Libraries\n"
      ],
      "metadata": {
        "id": "3YUaya7Whwdx"
      }
    },
    {
      "cell_type": "code",
      "source": [
        "! pip install yfinance\n",
        "! pip install pandas\n",
        "! pip install numpy\n",
        "! pip install matplotlib\n",
        "! pip install seaborn\n",
        "! pip install statsmodels\n",
        "! pip install ipywidgets\n",
        "! pip install pmdarima"
      ],
      "metadata": {
        "collapsed": true,
        "id": "NuNy4LGuh1HZ"
      },
      "execution_count": null,
      "outputs": []
    },
    {
      "cell_type": "markdown",
      "source": [
        "# Importing Libraries"
      ],
      "metadata": {
        "id": "N5Bp62Gch3gD"
      }
    },
    {
      "cell_type": "code",
      "source": [
        "import yfinance as yf\n",
        "import pandas as pd\n",
        "import numpy as np\n",
        "import matplotlib.pyplot as plt\n",
        "import seaborn as sns\n",
        "from statsmodels.tsa.stattools import adfuller, kpss, pacf, acf\n",
        "from statsmodels.tsa.seasonal import seasonal_decompose\n",
        "from statsmodels.tsa.api import ExponentialSmoothing, SimpleExpSmoothing, Holt\n",
        "from statsmodels.tsa.arima.model import ARIMA\n",
        "from statsmodels.tsa.vector_ar.var_model import VAR\n",
        "from ipywidgets import interact, widgets\n",
        "from sklearn.metrics import mean_squared_error\n",
        "import statsmodels.api as sm\n",
        "from pmdarima import auto_arima"
      ],
      "metadata": {
        "id": "lwb1cTYmh7gL"
      },
      "execution_count": null,
      "outputs": []
    },
    {
      "cell_type": "markdown",
      "source": [
        "# Data Extraction"
      ],
      "metadata": {
        "id": "tEHz4glriFkc"
      }
    },
    {
      "cell_type": "code",
      "source": [
        "def fetch_data(ticker, start_date, end_date):\n",
        "    data = yf.download(ticker, start=start_date, end=end_date)\n",
        "    return data['Close']"
      ],
      "metadata": {
        "id": "EjiH3rTziKMq"
      },
      "execution_count": null,
      "outputs": []
    },
    {
      "cell_type": "markdown",
      "source": [
        "# Visualization"
      ],
      "metadata": {
        "id": "KfbwBhZ1ZGmW"
      }
    },
    {
      "cell_type": "code",
      "source": [
        "def plot_rolling_mean_std(ts):\n",
        "    rolling_mean = ts.rolling(12).mean()\n",
        "    rolling_std = ts.rolling(12).std()\n",
        "    plt.figure(figsize=(22,10))\n",
        "\n",
        "    plt.plot(ts, label='Actual Mean')\n",
        "    plt.plot(rolling_mean, label='Rolling Mean')\n",
        "    plt.plot(rolling_std, label = 'Rolling Std')\n",
        "    plt.xlabel(\"Date\")\n",
        "    plt.ylabel(\"Mean Temperature\")\n",
        "    plt.title('Rolling Mean & Rolling Standard Deviation')\n",
        "    plt.legend()\n",
        "    plt.show()"
      ],
      "metadata": {
        "id": "dUau-RuIZK-E"
      },
      "execution_count": null,
      "outputs": []
    },
    {
      "cell_type": "markdown",
      "source": [
        "# Data Manipulation"
      ],
      "metadata": {
        "id": "92tipnQgouC_"
      }
    },
    {
      "cell_type": "code",
      "source": [
        "def feature_engineering(data):\n",
        "  transfomation = data.copy()\n",
        "  transfomation['MA20'] = transfomation['Close'].rolling(window=20).mean()\n",
        "  transfomation['MA100'] = transfomation['Close'].rolling(window=100).mean()\n",
        "  transfomation['Return'] = transfomation['Close'].pct_change()\n",
        "  transfomation['LogRet'] = np.log(transfomation['Close']).diff()\n",
        "  transfomation['Volatility'] = transfomation['LogRet'].rolling(window=20).std()\n",
        "  transfomation.dropna(inplace=True)\n",
        "  return transfomation"
      ],
      "metadata": {
        "id": "sw9kAWMpow-e"
      },
      "execution_count": null,
      "outputs": []
    },
    {
      "cell_type": "code",
      "source": [
        "def train_test_split(series, test_size=0.2):\n",
        "    split_index = int(len(series) * (1 - test_size))\n",
        "    train_data, test_data = series.iloc[:split_index], series.iloc[split_index - 1:]\n",
        "    return train_data, test_data"
      ],
      "metadata": {
        "id": "F2gZcb7e1FHn"
      },
      "execution_count": null,
      "outputs": []
    },
    {
      "cell_type": "code",
      "source": [
        "def resampling(df, frequency='M'):\n",
        "    sampled_df = df.resample(rule=frequency).mean().fillna(method='pad')\n",
        "    return sampled_df"
      ],
      "metadata": {
        "id": "4MgR17fG-Gs3"
      },
      "execution_count": null,
      "outputs": []
    },
    {
      "cell_type": "markdown",
      "source": [
        "# Stationarity\n"
      ],
      "metadata": {
        "id": "M-8NvJXYicMN"
      }
    },
    {
      "cell_type": "code",
      "source": [
        "def test_stationarity(timeseries):\n",
        "    # Rolling statistics\n",
        "    rolling_mean = timeseries.rolling(window=12).mean()\n",
        "    rolling_std = timeseries.rolling(window=12).std()\n",
        "\n",
        "    # Plotting rolling statistics\n",
        "    plt.figure(figsize=(12, 6))\n",
        "    plt.plot(timeseries, label='Original')\n",
        "    plt.plot(rolling_mean, color='red', label='Rolling Mean')\n",
        "    plt.plot(rolling_std, color='black', label='Rolling Std')\n",
        "    plt.legend(loc='best')\n",
        "    plt.title('Rolling Mean & Standard Deviation')\n",
        "    plt.show(block=False)\n",
        "\n",
        "    # Perform Dickey-Fuller test\n",
        "    print('Results of Dickey-Fuller Test:')\n",
        "    dftest = adfuller(timeseries, autolag='AIC')\n",
        "    dfoutput = pd.Series(dftest[0:4], index=['Test Statistic','p-value','#Lags Used','Number of Observations Used'])\n",
        "    for key,value in dftest[4].items():\n",
        "        dfoutput['Critical Value (%s)'%key] = value\n",
        "    print(dfoutput)\n",
        "\n",
        "    # Perform KPSS test\n",
        "    print('Results of KPSS Test:')\n",
        "    kpsstest = kpss(timeseries, regression='c')\n",
        "    kpss_output = pd.Series(kpsstest[0:3], index=['Test Statistic', 'p-value', 'Lags Used'])\n",
        "    for key, value in kpsstest[3].items():\n",
        "        kpss_output['Critical Value (%s)'%key] = value\n",
        "    print(kpss_output)"
      ],
      "metadata": {
        "id": "l3C87KtoiPK0"
      },
      "execution_count": null,
      "outputs": []
    },
    {
      "cell_type": "code",
      "source": [
        "def make_stationary(series, log_transform=False, difference=True, shift=1):\n",
        "    if log_transform:\n",
        "        series = np.log(series)\n",
        "    if difference:\n",
        "        series = series.diff(periods=shift).dropna()\n",
        "    return series"
      ],
      "metadata": {
        "id": "D108G8JsiU99"
      },
      "execution_count": null,
      "outputs": []
    },
    {
      "cell_type": "markdown",
      "source": [
        "# ACF/PACF"
      ],
      "metadata": {
        "id": "mj5774Dsikt4"
      }
    },
    {
      "cell_type": "code",
      "source": [
        "def plot_acf_pacf(series, lags=30):\n",
        "    fig, axes = plt.subplots(1, 2, figsize=(16, 4))\n",
        "    fig = sm.graphics.tsa.plot_acf(series, ax=axes[0])\n",
        "    fig = sm.graphics.tsa.plot_pacf(series,  ax=axes[1])\n",
        "    plt.show()"
      ],
      "metadata": {
        "id": "K30-aD2Vimyt"
      },
      "execution_count": null,
      "outputs": []
    },
    {
      "cell_type": "markdown",
      "source": [
        "# ARIMA\n"
      ],
      "metadata": {
        "id": "I03NPjmOittx"
      }
    },
    {
      "cell_type": "code",
      "source": [
        "def fit_and_forecast_arima(train_data, test_data, p=1, d=1, q=1, forecast_days=7, display_days=7):\n",
        "    print(p,d,q)\n",
        "    # Fit the ARIMA model on the training data\n",
        "    model = ARIMA(train_data, order=(p, d, q))\n",
        "    results = model.fit()\n",
        "    print(results.summary())\n",
        "\n",
        "    forecast_days = min(forecast_days, len(test_data))\n",
        "    forecast = results.forecast(steps=forecast_days)\n",
        "    forecast_index = test_data.index[:forecast_days]\n",
        "    forecast_series = pd.Series(forecast.values, index=forecast_index)\n",
        "\n",
        "    # Plot forecast vs actual\n",
        "    plt.figure(figsize=(12, 6))\n",
        "    plt.plot(train_data[-(display_days+1):], label='Training Data', color='orange')\n",
        "    plt.plot(test_data[:display_days], label='Testing Data', color='blue')\n",
        "    plt.plot(forecast_series, label='Forecast', color='red')\n",
        "    plt.legend(loc='best')\n",
        "    plt.title(f'ARIMA Model Forecast vs Actual (p={p}, d={d}, q={q})')\n",
        "    plt.show()\n",
        "    # Calculate and print RMSE\n",
        "    rmse = np.sqrt(mean_squared_error(test_data[:forecast_days], forecast_series))\n",
        "    print(f'Root Mean Squared Error: {rmse}')"
      ],
      "metadata": {
        "id": "HonsZ92IiqSL"
      },
      "execution_count": null,
      "outputs": []
    },
    {
      "cell_type": "code",
      "source": [
        "def interactive_arima(train_data, test_data, p=1, d=1, q=1,):\n",
        "    def update(p=p, d=d, q=q, forecast_days=2, display_days=7):\n",
        "        fit_and_forecast_arima(train_data, test_data, p, d, q, forecast_days, display_days)\n",
        "    interact(update,\n",
        "             p=widgets.IntSlider(min=0, max=15, step=1, value=0),\n",
        "             d=widgets.IntSlider(min=0, max=2, step=1, value=0),\n",
        "             q=widgets.IntSlider(min=0, max=15, step=1, value=0),\n",
        "             forecast_days=widgets.IntSlider(min=1, max=7, step=1, value=2),\n",
        "             display_days=widgets.IntSlider(min=3, max=14, step=1, value=7))"
      ],
      "metadata": {
        "id": "DBDE3floi2Nx"
      },
      "execution_count": null,
      "outputs": []
    },
    {
      "cell_type": "markdown",
      "source": [
        "# AutoARIMA"
      ],
      "metadata": {
        "id": "P0AW6nwlI5hF"
      }
    },
    {
      "cell_type": "code",
      "source": [
        "def fit_and_forecast_auto_arima(train_data, test_data, forecast_days=2, display_days=7):\n",
        "    # Fit the auto_arima model on the training data\n",
        "    model = auto_arima(train_data, seasonal=False, trace=True, error_action='ignore', suppress_warnings=True)\n",
        "    print(model.summary())\n",
        "\n",
        "    # Forecast starting from the end of training data\n",
        "    forecast = model.predict(n_periods=forecast_days)\n",
        "    forecast_start_index = train_data.index[-1]\n",
        "    forecast_days = min(forecast_days, len(test_data))\n",
        "    forecast_index = test_data.index[:forecast_days]\n",
        "    # forecast_index = pd.date_range(start=forecast_start_index, periods=forecast_days + 1, freq=train_data.index.freq)[1:]\n",
        "    forecast_series = pd.Series(forecast.values, index=forecast_index)\n",
        "\n",
        "    # Plot forecast vs actual including the transition point\n",
        "    plt.figure(figsize=(12, 6))\n",
        "    plt.plot(train_data[-(display_days+1):], label='Training Data', color='orange')\n",
        "    plt.plot(test_data[:display_days], label='Testing Data', color='blue')\n",
        "    plt.plot(forecast_series, label='Forecast', color='red')\n",
        "    plt.legend(loc='best')\n",
        "    plt.title('Auto ARIMA Model Forecast vs Actual')\n",
        "    plt.show()\n",
        "\n",
        "    # Calculate and print RMSE\n",
        "    rmse = np.sqrt(mean_squared_error(test_data[:forecast_days], forecast_series))\n",
        "    print(f'Root Mean Squared Error: {rmse}')"
      ],
      "metadata": {
        "id": "at3giAcLI5NN"
      },
      "execution_count": null,
      "outputs": []
    },
    {
      "cell_type": "markdown",
      "source": [
        "# VAR"
      ],
      "metadata": {
        "id": "CwtoF4DmiwMp"
      }
    },
    {
      "cell_type": "code",
      "source": [
        "def fit_and_forecast_var(df, train_data, test_data, lags=1, forecast_days=2, display_days=7):\n",
        "    # Fit the VAR model on training data\n",
        "    model = VAR(train_data)\n",
        "    results = model.fit(lags)\n",
        "    print(results.summary())\n",
        "\n",
        "    # Forecast\n",
        "    forecast = results.forecast(train_data.values[-lags:], steps=forecast_days)\n",
        "    forecast_index = pd.date_range(start=train_data.index[-1], periods=forecast_days + 1, freq=train_data.index.freq)[1:]\n",
        "    forecast_df = pd.DataFrame(forecast, index=forecast_index, columns=train_data.columns)\n",
        "\n",
        "    # Plot forecast vs actual\n",
        "    plt.figure(figsize=(12, 6))\n",
        "    for col in test_data.columns:\n",
        "        plt.plot(train_data[col].iloc[-(display_days+1):], label=f'Training {col}', color='orange')\n",
        "        plt.plot(test_data[col][:display_days], label=f'Testing {col}', color='blue')\n",
        "        plt.plot(forecast_df.index, forecast_df[col], label=f'Forecast {col}', color='red', linestyle='--')\n",
        "    plt.legend(loc='best')\n",
        "    plt.title('VAR Model Forecast vs Actual')\n",
        "    plt.show()"
      ],
      "metadata": {
        "id": "6nVAaq4TiyOM"
      },
      "execution_count": null,
      "outputs": []
    },
    {
      "cell_type": "code",
      "source": [
        "def interactive_var(train_data, test_data):\n",
        "    def update(lags=1, forecast_days=2, display_days=7):\n",
        "        fit_and_forecast_var(df, train_data, test_data, lags, forecast_days, display_days)\n",
        "    interact(update,\n",
        "             lags=widgets.IntSlider(min=1, max=10, step=1, value=1),\n",
        "             forecast_days=widgets.IntSlider(min=1, max=7, step=1, value=2),\n",
        "             display_days=widgets.IntSlider(min=3, max=14, step=1, value=7))"
      ],
      "metadata": {
        "id": "qjHKhYxai05V"
      },
      "execution_count": null,
      "outputs": []
    },
    {
      "cell_type": "markdown",
      "source": [
        "# Main"
      ],
      "metadata": {
        "id": "KtbBGoiYi41C"
      }
    },
    {
      "cell_type": "code",
      "source": [
        "path = '/content/testset.csv'\n",
        "weather_df = pd.read_csv(path, parse_dates=['datetime_utc'], index_col='datetime_utc')\n",
        "weather_df = weather_df.loc[:,[' _hum', ' _tempm']]\n",
        "weather_df = weather_df.rename(index=str, columns={' _hum': 'humidity', ' _pressurem': 'pressure', ' _tempm': 'temprature'})\n",
        "weather_df.index = pd.to_datetime(weather_df.index)\n",
        "weather_df.ffill(inplace=True)\n",
        "print(f'dataset shape (rows, columns) - {weather_df.shape}')\n",
        "weather_df.head()"
      ],
      "metadata": {
        "id": "8EasFPmsD4G9"
      },
      "execution_count": null,
      "outputs": []
    },
    {
      "cell_type": "code",
      "source": [
        "weather_df.describe()"
      ],
      "metadata": {
        "id": "kLwi-_uvWOgW"
      },
      "execution_count": null,
      "outputs": []
    },
    {
      "cell_type": "code",
      "source": [
        "# weather_df = weather_df[weather_df.temprature < 50]\n",
        "# weather_df = weather_df[weather_df.humidity <= 100]"
      ],
      "metadata": {
        "id": "oYuX9SI0WPu3"
      },
      "execution_count": null,
      "outputs": []
    },
    {
      "cell_type": "code",
      "source": [
        "weather_df.describe()"
      ],
      "metadata": {
        "id": "lfKfdPmnWaLu"
      },
      "execution_count": null,
      "outputs": []
    },
    {
      "cell_type": "code",
      "source": [
        "weather_df.head()"
      ],
      "metadata": {
        "id": "WudLO_u1XVau"
      },
      "execution_count": null,
      "outputs": []
    },
    {
      "cell_type": "code",
      "source": [
        "weather_weekly = resampling(weather_df, frequency='W')\n",
        "weather_monthly = resampling(weather_df, frequency='M')"
      ],
      "metadata": {
        "id": "WhFMuc1VWmXB"
      },
      "execution_count": null,
      "outputs": []
    },
    {
      "cell_type": "code",
      "source": [
        "train_df, test_df = train_test_split(weather_monthly['2000':'2017'])"
      ],
      "metadata": {
        "id": "GtkWeF86h8Ix"
      },
      "execution_count": null,
      "outputs": []
    },
    {
      "cell_type": "code",
      "source": [
        "plot_rolling_mean_std(train_df.temprature)"
      ],
      "metadata": {
        "id": "fiqsOhBYpbCx"
      },
      "execution_count": null,
      "outputs": []
    },
    {
      "cell_type": "code",
      "source": [
        "print(\"Testing Stationarity of the Original Series:\")\n",
        "test_stationarity(train_df.temprature)"
      ],
      "metadata": {
        "id": "ehz8JBPn2BnP"
      },
      "execution_count": null,
      "outputs": []
    },
    {
      "cell_type": "code",
      "source": [
        "# Feature Engineering to achieve stationarity\n",
        "print(\"\\nApplying Log Transform to Achieve Stationarity:\")\n",
        "stationary_series_log = make_stationary(train_df.temprature, log_transform=True, difference=False)\n",
        "test_stationarity(stationary_series_log)"
      ],
      "metadata": {
        "id": "u1GGpoGqjlfm"
      },
      "execution_count": null,
      "outputs": []
    },
    {
      "cell_type": "code",
      "source": [
        "# Feature Engineering to achieve stationarity\n",
        "print(\"\\nApplying Differencing to Achieve Stationarity:\")\n",
        "stationary_series_diff = make_stationary(train_df.temprature, log_transform=False, difference=True, shift=1)\n",
        "test_stationarity(stationary_series_diff)"
      ],
      "metadata": {
        "id": "QIUWjAAUjmBu"
      },
      "execution_count": null,
      "outputs": []
    },
    {
      "cell_type": "code",
      "source": [
        "print(\"\\nPlotting ACF and PACF:\")\n",
        "plot_acf_pacf(train_df.temprature)"
      ],
      "metadata": {
        "id": "WNnS_J2MkwdV"
      },
      "execution_count": null,
      "outputs": []
    },
    {
      "cell_type": "code",
      "source": [
        "print(\"\\nPlotting ACF and PACF:\")\n",
        "plot_acf_pacf(stationary_series_diff)"
      ],
      "metadata": {
        "id": "3wuqKCdThDj9"
      },
      "execution_count": null,
      "outputs": []
    },
    {
      "cell_type": "code",
      "source": [
        "# Univariate Forecasting with ARIMA\n",
        "print(\"\\n### Univariate Forecasting with ARIMA ###\\n\")\n",
        "print(\"\\nInteractive ARIMA Model:\")\n",
        "interactive_arima(train_df.temprature, test_df.temprature)"
      ],
      "metadata": {
        "id": "CoXSdQyCkH1V"
      },
      "execution_count": null,
      "outputs": []
    },
    {
      "cell_type": "code",
      "source": [
        "fit_and_forecast_auto_arima(train_df.temprature, test_df.temprature, forecast_days=7)"
      ],
      "metadata": {
        "id": "-auD1ZCmJEVE"
      },
      "execution_count": null,
      "outputs": []
    },
    {
      "cell_type": "code",
      "source": [
        "# Multivariate Forecasting using VAR\n",
        "print(\"\\n### Multivariate Forecasting ###\\n\")\n",
        "print(\"Fetching additional data for multivariate analysis...\")\n",
        "print(\"\\nInteractive VAR Model:\")\n",
        "interactive_var(train_df,test_df)"
      ],
      "metadata": {
        "id": "AtTMaGRYi7-t"
      },
      "execution_count": null,
      "outputs": []
    }
  ]
}